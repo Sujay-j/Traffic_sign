{
 "cells": [
  {
   "cell_type": "code",
   "execution_count": 1,
   "metadata": {},
   "outputs": [],
   "source": [
    "from tensorflow.keras.models import load_model\n",
    "from skimage import transform\n",
    "from skimage import exposure\n",
    "from skimage import io\n",
    "from imutils import paths\n",
    "import numpy as np\n",
    "import argparse\n",
    "import imutils\n",
    "import random\n",
    "import cv2\n",
    "import os"
   ]
  },
  {
   "cell_type": "code",
   "execution_count": 7,
   "metadata": {},
   "outputs": [],
   "source": [
    "path = os.getcwd()"
   ]
  },
  {
   "cell_type": "code",
   "execution_count": 15,
   "metadata": {},
   "outputs": [
    {
     "data": {
      "text/plain": [
       "'C:\\\\Users\\\\Sujay J\\\\Desktop\\\\PYImage\\\\my exersize\\\\traffic_signal\\\\output\\\\trafficsignnet.model'"
      ]
     },
     "execution_count": 15,
     "metadata": {},
     "output_type": "execute_result"
    }
   ],
   "source": [
    "model = path+\"\\output\\\\trafficsignnet.model\"\n",
    "model"
   ]
  },
  {
   "cell_type": "code",
   "execution_count": 9,
   "metadata": {},
   "outputs": [],
   "source": [
    "examples = path +\"\\examples\""
   ]
  },
  {
   "cell_type": "code",
   "execution_count": 11,
   "metadata": {},
   "outputs": [
    {
     "data": {
      "text/plain": [
       "'C:\\\\Users\\\\Sujay J\\\\Desktop\\\\PYImage\\\\my exersize\\\\traffic_signal\\\\Test'"
      ]
     },
     "execution_count": 11,
     "metadata": {},
     "output_type": "execute_result"
    }
   ],
   "source": [
    "images = path + \"\\Test\"\n",
    "images"
   ]
  },
  {
   "cell_type": "code",
   "execution_count": 16,
   "metadata": {},
   "outputs": [],
   "source": [
    "model = load_model(model)"
   ]
  },
  {
   "cell_type": "code",
   "execution_count": 17,
   "metadata": {},
   "outputs": [],
   "source": [
    "labelNames = open(\"signnames.csv\").read().strip().split(\"\\n\")[1:]\n"
   ]
  },
  {
   "cell_type": "code",
   "execution_count": 18,
   "metadata": {},
   "outputs": [],
   "source": [
    "labelNames = [l.split(\",\")[1] for l in labelNames]"
   ]
  },
  {
   "cell_type": "code",
   "execution_count": 19,
   "metadata": {},
   "outputs": [],
   "source": [
    "imagesPaths = list(paths.list_images(images))\n",
    "random.shuffle(imagesPaths)\n",
    "imagesPaths = imagesPaths[:25]"
   ]
  },
  {
   "cell_type": "code",
   "execution_count": 20,
   "metadata": {},
   "outputs": [
    {
     "name": "stderr",
     "output_type": "stream",
     "text": [
      "C:\\Users\\Sujay J\\Anaconda3\\lib\\site-packages\\skimage\\util\\dtype.py:135: UserWarning: Possible precision loss when converting from float64 to uint16\n",
      "  .format(dtypeobj_in, dtypeobj_out))\n"
     ]
    }
   ],
   "source": [
    "for (i, imagePath) in enumerate(imagesPaths):\n",
    "    image = io.imread(imagePath)\n",
    "    image = transform.resize(image,(32,32))\n",
    "    image = exposure.equalize_adapthist(image,clip_limit=0.1)\n",
    "    image = image.astype(\"float32\")/255.0\n",
    "    image = np.expand_dims(image,axis=0)\n",
    "    \n",
    "    preds = model.predict(image)\n",
    "    j = preds.argmax(axis = 1)[0]\n",
    "    label = labelNames[j]\n",
    "    \n",
    "    image = cv2.imread(imagePath)\n",
    "    image = imutils.resize(image,width = 128)\n",
    "    cv2.putText(image,label,(5,15),cv2.FONT_HERSHEY_SIMPLEX,0.45,(0,0,255),2)\n",
    "    \n",
    "    p = os.path.sep.join([examples,\"{}.png\".format(i)])\n",
    "    cv2.imwrite(p,image)"
   ]
  },
  {
   "cell_type": "code",
   "execution_count": null,
   "metadata": {},
   "outputs": [],
   "source": []
  }
 ],
 "metadata": {
  "kernelspec": {
   "display_name": "Python 3",
   "language": "python",
   "name": "python3"
  },
  "language_info": {
   "codemirror_mode": {
    "name": "ipython",
    "version": 3
   },
   "file_extension": ".py",
   "mimetype": "text/x-python",
   "name": "python",
   "nbconvert_exporter": "python",
   "pygments_lexer": "ipython3",
   "version": "3.7.4"
  }
 },
 "nbformat": 4,
 "nbformat_minor": 2
}
