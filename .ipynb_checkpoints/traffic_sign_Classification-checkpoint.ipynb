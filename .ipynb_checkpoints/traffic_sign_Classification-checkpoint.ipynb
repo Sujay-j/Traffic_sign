{
 "cells": [
  {
   "cell_type": "code",
   "execution_count": 1,
   "metadata": {},
   "outputs": [],
   "source": [
    "from tensorflow.keras.models import Sequential\n",
    "from tensorflow.keras.layers import BatchNormalization\n",
    "from tensorflow.keras.layers import Conv2D\n",
    "from tensorflow.keras.layers import MaxPooling2D\n",
    "from tensorflow.keras.layers import Activation\n",
    "from tensorflow.keras.layers import Flatten\n",
    "from tensorflow.keras.layers import Dropout\n",
    "from tensorflow.keras.layers import Dense"
   ]
  },
  {
   "cell_type": "code",
   "execution_count": 2,
   "metadata": {},
   "outputs": [],
   "source": [
    "class TrafficSigNet:\n",
    "    @staticmethod\n",
    "    def build(width,height,depth,classes):\n",
    "        model = Sequential()\n",
    "        inputshape = (height,width,depth)\n",
    "        chanDim = -1\n",
    "        model.add(Conv2D(8,(5,5),padding=\"same\",input_shape=inputshape))\n",
    "        model.add(Activation(\"relu\"))\n",
    "        model.add(BatchNormalization(axis=chanDim))\n",
    "        model.add(MaxPooling2D(pool_size=(2,2)))\n",
    "        \n",
    "        model.add(Conv2D(16,(3,3),padding=\"same\"))\n",
    "        model.add(Activation(\"relu\"))\n",
    "        model.add(BatchNormalization(axis=chanDim))\n",
    "        model.add(Conv2D(16,(3,3),padding=\"same\"))\n",
    "        model.add(Activation(\"relu\"))\n",
    "        model.add(BatchNormalization(axis=chanDim))\n",
    "        model.add(MaxPooling2D(pool_size=(2,2)))\n",
    "        \n",
    "        model.add(Conv2D(32,(3,3),padding= \"same\"))\n",
    "        model.add(Activation(\"relu\"))\n",
    "        model.add(BatchNormalization(axis=chanDim))\n",
    "        model.add(Conv2D(32,(3,3),padding=\"same\"))\n",
    "        model.add(Activation(\"relu\"))\n",
    "        model.add(BatchNormalization(axis=chanDim))\n",
    "        model.add(MaxPooling2D(pool_size=(2,2)))\n",
    "        \n",
    "        model.add(Flatten())\n",
    "        model.add(Dense(128))\n",
    "        model.add(Activation(\"relu\"))\n",
    "        model.add(BatchNormalization())\n",
    "        model.add(Dropout(0.5))\n",
    "        \n",
    "        model.add(Flatten())\n",
    "        model.add(Dense(128))\n",
    "        model.add(Activation(\"relu\"))\n",
    "        model.add(BatchNormalization())\n",
    "        model.add(Dropout(0.5))\n",
    "        \n",
    "        model.add(Dense(classes))\n",
    "        model.add(Activation(\"softmax\"))\n",
    "        \n",
    "        return model"
   ]
  },
  {
   "cell_type": "code",
   "execution_count": 3,
   "metadata": {},
   "outputs": [],
   "source": [
    "from tensorflow.keras.preprocessing.image import ImageDataGenerator\n",
    "from tensorflow.keras.optimizers import Adam\n",
    "from tensorflow.keras.utils import to_categorical\n",
    "from sklearn.metrics import classification_report\n",
    "from skimage import transform\n",
    "from skimage import exposure\n",
    "from skimage import io\n",
    "import matplotlib.pyplot as plt\n",
    "import numpy as np\n",
    "import argparse\n",
    "import random\n",
    "import os"
   ]
  },
  {
   "cell_type": "code",
   "execution_count": 4,
   "metadata": {},
   "outputs": [],
   "source": [
    "def load_split(basePath,csvPath):\n",
    "    data=[]\n",
    "    labels=[]\n",
    "    rows=open(csvPath).read().strip().split(\"\\n\")[1:]\n",
    "    random.shuffle(rows)\n",
    "    for (i,row) in enumerate(rows):\n",
    "        if i>0 and i%1000 == 0:\n",
    "            print(\"[INFO] processed {} total images\".format(i))\n",
    "        (label,imagePath)=row.strip().split(\",\")[-2:]\n",
    "        imagePath = os.path.sep.join([basePath,imagePath])\n",
    "        image = io.imread(imagePath)\n",
    "        \n",
    "        image = transform.resize(image,(32,32))\n",
    "        image = exposure.equalize_adapthist(image,clip_limit=0.1)\n",
    "        \n",
    "        data.append(image)\n",
    "        labels.append(int(label))\n",
    "    data = np.array(data)\n",
    "    labels = np.array(labels)\n",
    "    \n",
    "    return(data,labels)\n",
    "        "
   ]
  },
  {
   "cell_type": "code",
   "execution_count": 5,
   "metadata": {},
   "outputs": [],
   "source": [
    "dataset = os.getcwd()\n"
   ]
  },
  {
   "cell_type": "code",
   "execution_count": 6,
   "metadata": {},
   "outputs": [],
   "source": [
    "NUM_EPOCHS = 30\n",
    "INIT_LR = 1e-3\n",
    "BS = 64"
   ]
  },
  {
   "cell_type": "code",
   "execution_count": 7,
   "metadata": {},
   "outputs": [],
   "source": [
    "labelNames = open(\"signnames.csv\").read().strip().split(\"\\n\")[1:]\n",
    "labelNames = [l.split(\",\")[1] for l in labelNames]"
   ]
  },
  {
   "cell_type": "code",
   "execution_count": 8,
   "metadata": {},
   "outputs": [],
   "source": [
    "trainPath = os.path.sep.join([dataset,\"Train.csv\"])\n",
    "testPath = os.path.sep.join([dataset,\"Test.csv\"])"
   ]
  },
  {
   "cell_type": "code",
   "execution_count": 9,
   "metadata": {},
   "outputs": [
    {
     "name": "stderr",
     "output_type": "stream",
     "text": [
      "C:\\Users\\Sujay J\\Anaconda3\\lib\\site-packages\\skimage\\util\\dtype.py:135: UserWarning: Possible precision loss when converting from float64 to uint16\n",
      "  .format(dtypeobj_in, dtypeobj_out))\n"
     ]
    },
    {
     "name": "stdout",
     "output_type": "stream",
     "text": [
      "[INFO] processed 1000 total images\n",
      "[INFO] processed 2000 total images\n",
      "[INFO] processed 3000 total images\n",
      "[INFO] processed 4000 total images\n",
      "[INFO] processed 5000 total images\n",
      "[INFO] processed 6000 total images\n",
      "[INFO] processed 7000 total images\n",
      "[INFO] processed 8000 total images\n",
      "[INFO] processed 9000 total images\n",
      "[INFO] processed 10000 total images\n",
      "[INFO] processed 11000 total images\n",
      "[INFO] processed 12000 total images\n",
      "[INFO] processed 13000 total images\n",
      "[INFO] processed 14000 total images\n",
      "[INFO] processed 15000 total images\n",
      "[INFO] processed 16000 total images\n",
      "[INFO] processed 17000 total images\n",
      "[INFO] processed 18000 total images\n",
      "[INFO] processed 19000 total images\n",
      "[INFO] processed 20000 total images\n",
      "[INFO] processed 21000 total images\n",
      "[INFO] processed 22000 total images\n",
      "[INFO] processed 23000 total images\n",
      "[INFO] processed 24000 total images\n",
      "[INFO] processed 25000 total images\n",
      "[INFO] processed 26000 total images\n",
      "[INFO] processed 27000 total images\n",
      "[INFO] processed 28000 total images\n",
      "[INFO] processed 29000 total images\n",
      "[INFO] processed 30000 total images\n",
      "[INFO] processed 31000 total images\n",
      "[INFO] processed 32000 total images\n",
      "[INFO] processed 33000 total images\n",
      "[INFO] processed 34000 total images\n",
      "[INFO] processed 35000 total images\n",
      "[INFO] processed 36000 total images\n",
      "[INFO] processed 37000 total images\n",
      "[INFO] processed 38000 total images\n",
      "[INFO] processed 39000 total images\n",
      "[INFO] processed 1000 total images\n",
      "[INFO] processed 2000 total images\n",
      "[INFO] processed 3000 total images\n",
      "[INFO] processed 4000 total images\n",
      "[INFO] processed 5000 total images\n",
      "[INFO] processed 6000 total images\n",
      "[INFO] processed 7000 total images\n",
      "[INFO] processed 8000 total images\n",
      "[INFO] processed 9000 total images\n",
      "[INFO] processed 10000 total images\n",
      "[INFO] processed 11000 total images\n",
      "[INFO] processed 12000 total images\n"
     ]
    }
   ],
   "source": [
    "(trainX,trainY )= load_split(dataset,trainPath)\n",
    "(testX,testY)=load_split(dataset,testPath)"
   ]
  },
  {
   "cell_type": "code",
   "execution_count": 10,
   "metadata": {},
   "outputs": [],
   "source": [
    "trainX=trainX.astype(\"float32\")/255.0\n",
    "testX = testX.astype(\"float32\")/255.0"
   ]
  },
  {
   "cell_type": "code",
   "execution_count": 11,
   "metadata": {},
   "outputs": [
    {
     "data": {
      "text/plain": [
       "array([12,  1, 16, ...,  4, 18, 16])"
      ]
     },
     "execution_count": 11,
     "metadata": {},
     "output_type": "execute_result"
    }
   ],
   "source": [
    "trainY"
   ]
  },
  {
   "cell_type": "code",
   "execution_count": 12,
   "metadata": {},
   "outputs": [],
   "source": [
    "numLabels = len(np.unique(trainY))\n",
    "trainY = to_categorical(trainY, numLabels)\n",
    "testY = to_categorical(testY, numLabels)"
   ]
  },
  {
   "cell_type": "code",
   "execution_count": 13,
   "metadata": {},
   "outputs": [],
   "source": [
    "classTotals = trainY.sum(axis = 0)\n",
    "classWeight = classTotals.max()/classTotals"
   ]
  },
  {
   "cell_type": "code",
   "execution_count": 14,
   "metadata": {},
   "outputs": [],
   "source": [
    "aug = ImageDataGenerator(\n",
    "rotation_range = 10,\n",
    "zoom_range = 0.15,\n",
    "width_shift_range = 0.1,\n",
    "height_shift_range = 0.1,\n",
    "shear_range = 0.15,\n",
    "horizontal_flip = False,\n",
    "vertical_flip = False,fill_mode = \"nearest\")"
   ]
  },
  {
   "cell_type": "code",
   "execution_count": 15,
   "metadata": {},
   "outputs": [],
   "source": [
    "opt = Adam(lr=INIT_LR,decay=INIT_LR/(NUM_EPOCHS * 0.5))\n",
    "model = TrafficSigNet.build(width=32,height = 32,depth = 3,classes = numLabels)\n",
    "model.compile(loss=\"categorical_crossentropy\",optimizer = opt,metrics = [\"accuracy\"])"
   ]
  },
  {
   "cell_type": "code",
   "execution_count": 16,
   "metadata": {},
   "outputs": [
    {
     "name": "stdout",
     "output_type": "stream",
     "text": [
      "Epoch 1/30\n",
      "612/612 [==============================] - 153s 251ms/step - loss: 2.6838 - accuracy: 0.2961 - val_loss: 3.1667 - val_accuracy: 0.1982\n",
      "Epoch 2/30\n",
      "612/612 [==============================] - 154s 251ms/step - loss: 1.4339 - accuracy: 0.5488 - val_loss: 1.0111 - val_accuracy: 0.6773\n",
      "Epoch 3/30\n",
      "612/612 [==============================] - 155s 253ms/step - loss: 1.0227 - accuracy: 0.6722 - val_loss: 2.2866 - val_accuracy: 0.4124\n",
      "Epoch 4/30\n",
      "612/612 [==============================] - 154s 252ms/step - loss: 0.8063 - accuracy: 0.7411 - val_loss: 0.7903 - val_accuracy: 0.7446\n",
      "Epoch 5/30\n",
      "612/612 [==============================] - 155s 253ms/step - loss: 0.6594 - accuracy: 0.7874 - val_loss: 1.0462 - val_accuracy: 0.7013\n",
      "Epoch 6/30\n",
      "612/612 [==============================] - 155s 253ms/step - loss: 0.5561 - accuracy: 0.8208 - val_loss: 0.4925 - val_accuracy: 0.8402\n",
      "Epoch 7/30\n",
      "612/612 [==============================] - 155s 254ms/step - loss: 0.4963 - accuracy: 0.8423 - val_loss: 0.4361 - val_accuracy: 0.8622\n",
      "Epoch 8/30\n",
      "612/612 [==============================] - 158s 258ms/step - loss: 0.4408 - accuracy: 0.8589 - val_loss: 0.5463 - val_accuracy: 0.8333\n",
      "Epoch 9/30\n",
      "612/612 [==============================] - 158s 259ms/step - loss: 0.3963 - accuracy: 0.8758 - val_loss: 0.5248 - val_accuracy: 0.8339\n",
      "Epoch 10/30\n",
      "612/612 [==============================] - 158s 259ms/step - loss: 0.3790 - accuracy: 0.8782 - val_loss: 0.6452 - val_accuracy: 0.8025\n",
      "Epoch 11/30\n",
      "612/612 [==============================] - 159s 259ms/step - loss: 0.3370 - accuracy: 0.8916 - val_loss: 1.0300 - val_accuracy: 0.7186\n",
      "Epoch 12/30\n",
      "612/612 [==============================] - 159s 260ms/step - loss: 0.3198 - accuracy: 0.8988 - val_loss: 0.3389 - val_accuracy: 0.8969\n",
      "Epoch 13/30\n",
      "612/612 [==============================] - 160s 262ms/step - loss: 0.2980 - accuracy: 0.9066 - val_loss: 0.5635 - val_accuracy: 0.8340\n",
      "Epoch 14/30\n",
      "612/612 [==============================] - 162s 265ms/step - loss: 0.2811 - accuracy: 0.9117 - val_loss: 2.2222 - val_accuracy: 0.5355\n",
      "Epoch 15/30\n",
      "612/612 [==============================] - 184s 301ms/step - loss: 0.2700 - accuracy: 0.9137 - val_loss: 1.3416 - val_accuracy: 0.6853\n",
      "Epoch 16/30\n",
      "612/612 [==============================] - 169s 277ms/step - loss: 0.2491 - accuracy: 0.9218 - val_loss: 2.4738 - val_accuracy: 0.4913\n",
      "Epoch 17/30\n",
      "612/612 [==============================] - 167s 273ms/step - loss: 0.2456 - accuracy: 0.9206 - val_loss: 6.1646 - val_accuracy: 0.2016\n",
      "Epoch 18/30\n",
      "612/612 [==============================] - 167s 272ms/step - loss: 0.2390 - accuracy: 0.9260 - val_loss: 0.3605 - val_accuracy: 0.8986\n",
      "Epoch 19/30\n",
      "612/612 [==============================] - 166s 271ms/step - loss: 0.2251 - accuracy: 0.9292 - val_loss: 3.0665 - val_accuracy: 0.4344\n",
      "Epoch 20/30\n",
      "612/612 [==============================] - 165s 269ms/step - loss: 0.2155 - accuracy: 0.9318 - val_loss: 1.6157 - val_accuracy: 0.6542\n",
      "Epoch 21/30\n",
      "612/612 [==============================] - 261s 426ms/step - loss: 0.2006 - accuracy: 0.9355 - val_loss: 8.2017 - val_accuracy: 0.1154\n",
      "Epoch 22/30\n",
      "612/612 [==============================] - 318s 520ms/step - loss: 0.1959 - accuracy: 0.9393 - val_loss: 1.9245 - val_accuracy: 0.5533\n",
      "Epoch 23/30\n",
      "612/612 [==============================] - 320s 523ms/step - loss: 0.1967 - accuracy: 0.9381 - val_loss: 1.9612 - val_accuracy: 0.5591\n",
      "Epoch 24/30\n",
      "612/612 [==============================] - 324s 530ms/step - loss: 0.1907 - accuracy: 0.9411 - val_loss: 0.6693 - val_accuracy: 0.8227\n",
      "Epoch 25/30\n",
      "612/612 [==============================] - 324s 529ms/step - loss: 0.1882 - accuracy: 0.9407 - val_loss: 0.5457 - val_accuracy: 0.8515\n",
      "Epoch 26/30\n",
      "612/612 [==============================] - 324s 530ms/step - loss: 0.1811 - accuracy: 0.9438 - val_loss: 5.8269 - val_accuracy: 0.1871\n",
      "Epoch 27/30\n",
      "612/612 [==============================] - 329s 537ms/step - loss: 0.1763 - accuracy: 0.9441 - val_loss: 4.7883 - val_accuracy: 0.3147\n",
      "Epoch 28/30\n",
      "612/612 [==============================] - 328s 535ms/step - loss: 0.1737 - accuracy: 0.9454 - val_loss: 0.4592 - val_accuracy: 0.8769\n",
      "Epoch 29/30\n",
      "612/612 [==============================] - 331s 542ms/step - loss: 0.1659 - accuracy: 0.9488 - val_loss: 0.1844 - val_accuracy: 0.9440\n",
      "Epoch 30/30\n",
      "612/612 [==============================] - 333s 544ms/step - loss: 0.1605 - accuracy: 0.9512 - val_loss: 0.4310 - val_accuracy: 0.8781\n"
     ]
    }
   ],
   "source": [
    "H = model.fit_generator(\n",
    "\taug.flow(trainX, trainY, batch_size=BS),\n",
    "\tvalidation_data=(testX, testY),\n",
    "\tsteps_per_epoch=trainX.shape[0] // BS,\n",
    "\tepochs=NUM_EPOCHS,\n",
    "\tclass_weight=classWeight,\n",
    "\tverbose=1)"
   ]
  },
  {
   "cell_type": "code",
   "execution_count": 17,
   "metadata": {},
   "outputs": [
    {
     "name": "stdout",
     "output_type": "stream",
     "text": [
      "                                                    precision    recall  f1-score   support\n",
      "\n",
      "                              Speed limit (20km/h)       0.65      0.98      0.78        60\n",
      "                              Speed limit (30km/h)       0.77      0.95      0.85       720\n",
      "                              Speed limit (50km/h)       0.80      0.95      0.87       750\n",
      "                              Speed limit (60km/h)       0.95      0.73      0.83       450\n",
      "                              Speed limit (70km/h)       0.86      0.94      0.90       660\n",
      "                              Speed limit (80km/h)       0.83      0.69      0.75       630\n",
      "                       End of speed limit (80km/h)       0.79      0.86      0.82       150\n",
      "                             Speed limit (100km/h)       0.92      0.87      0.89       450\n",
      "                             Speed limit (120km/h)       0.96      0.86      0.91       450\n",
      "                                        No passing       0.98      0.93      0.95       480\n",
      "      No passing for vehicles over 3.5 metric tons       0.99      0.95      0.97       660\n",
      "             Right-of-way at the next intersection       0.90      0.89      0.90       420\n",
      "                                     Priority road       0.95      0.96      0.95       690\n",
      "                                             Yield       0.98      0.98      0.98       720\n",
      "                                              Stop       1.00      0.93      0.96       270\n",
      "                                       No vehicles       1.00      0.49      0.66       210\n",
      "          Vehicles over 3.5 metric tons prohibited       0.99      0.99      0.99       150\n",
      "                                          No entry       1.00      0.88      0.94       360\n",
      "                                   General caution       0.97      0.71      0.82       390\n",
      "                       Dangerous curve to the left       0.78      0.88      0.83        60\n",
      "                      Dangerous curve to the right       0.59      0.99      0.74        90\n",
      "                                      Double curve       0.95      0.42      0.58        90\n",
      "                                        Bumpy road       0.73      0.88      0.80       120\n",
      "                                     Slippery road       0.91      0.81      0.86       150\n",
      "                         Road narrows on the right       0.78      0.87      0.82        90\n",
      "                                         Road work       0.94      0.95      0.95       480\n",
      "                                   Traffic signals       0.83      0.96      0.89       180\n",
      "                                       Pedestrians       0.57      0.57      0.57        60\n",
      "                                 Children crossing       0.71      0.95      0.82       150\n",
      "                                 Bicycles crossing       0.74      0.84      0.79        90\n",
      "                                Beware of ice/snow       0.85      0.37      0.52       150\n",
      "                             Wild animals crossing       0.86      0.95      0.90       270\n",
      "               End of all speed and passing limits       0.54      0.93      0.69        60\n",
      "                                  Turn right ahead       0.98      0.84      0.91       210\n",
      "                                   Turn left ahead       0.97      0.78      0.87       120\n",
      "                                        Ahead only       0.99      0.89      0.94       390\n",
      "                              Go straight or right       0.92      0.90      0.91       120\n",
      "                               Go straight or left       0.73      0.95      0.83        60\n",
      "                                        Keep right       0.89      0.98      0.93       690\n",
      "                                         Keep left       0.97      0.83      0.90        90\n",
      "                              Roundabout mandatory       0.28      0.58      0.38        90\n",
      "                                 End of no passing       0.83      0.95      0.88        60\n",
      "End of no passing by vehicles over 3.5 metric tons       0.80      0.59      0.68        90\n",
      "\n",
      "                                          accuracy                           0.88     12630\n",
      "                                         macro avg       0.85      0.84      0.83     12630\n",
      "                                      weighted avg       0.89      0.88      0.88     12630\n",
      "\n"
     ]
    }
   ],
   "source": [
    "predictions = model.predict(testX, batch_size=BS)\n",
    "print(classification_report(testY.argmax(axis=1),\n",
    "\tpredictions.argmax(axis=1), target_names=labelNames))"
   ]
  },
  {
   "cell_type": "code",
   "execution_count": 18,
   "metadata": {},
   "outputs": [
    {
     "name": "stdout",
     "output_type": "stream",
     "text": [
      "WARNING:tensorflow:From C:\\Users\\Sujay J\\Anaconda3\\lib\\site-packages\\tensorflow_core\\python\\ops\\resource_variable_ops.py:1781: calling BaseResourceVariable.__init__ (from tensorflow.python.ops.resource_variable_ops) with constraint is deprecated and will be removed in a future version.\n",
      "Instructions for updating:\n",
      "If using Keras pass *_constraint arguments to layers.\n",
      "INFO:tensorflow:Assets written to: model\\assets\n"
     ]
    }
   ],
   "source": [
    "model.save(\"model\")"
   ]
  },
  {
   "cell_type": "code",
   "execution_count": 19,
   "metadata": {},
   "outputs": [
    {
     "data": {
      "image/png": "[encoded data removed]",
      "text/plain": [
       "<Figure size 432x288 with 1 Axes>"
      ]
     },
     "metadata": {},
     "output_type": "display_data"
    }
   ],
   "source": [
    "N = np.arange(0, NUM_EPOCHS)\n",
    "plt.style.use(\"ggplot\")\n",
    "plt.figure()\n",
    "plt.plot(N, H.history[\"loss\"], label=\"train_loss\")\n",
    "plt.plot(N, H.history[\"val_loss\"], label=\"val_loss\")\n",
    "plt.plot(N, H.history[\"accuracy\"], label=\"train_acc\")\n",
    "plt.plot(N, H.history[\"val_accuracy\"], label=\"val_acc\")\n",
    "plt.title(\"Training Loss and Accuracy on Dataset\")\n",
    "plt.xlabel(\"Epoch #\")\n",
    "plt.ylabel(\"Loss/Accuracy\")\n",
    "plt.legend(loc=\"lower left\")\n",
    "plt.savefig(\"plot\")"
   ]
  },
  {
   "cell_type": "code",
   "execution_count": null,
   "metadata": {},
   "outputs": [],
   "source": []
  }
 ],
 "metadata": {
  "kernelspec": {
   "display_name": "Python 3",
   "language": "python",
   "name": "python3"
  },
  "language_info": {
   "codemirror_mode": {
    "name": "ipython",
    "version": 3
   },
   "file_extension": ".py",
   "mimetype": "text/x-python",
   "name": "python",
   "nbconvert_exporter": "python",
   "pygments_lexer": "ipython3",
   "version": "3.7.4"
  }
 },
 "nbformat": 4,
 "nbformat_minor": 2
}
